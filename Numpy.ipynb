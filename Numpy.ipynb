{
  "nbformat": 4,
  "nbformat_minor": 0,
  "metadata": {
    "colab": {
      "provenance": []
    },
    "kernelspec": {
      "name": "python3",
      "display_name": "Python 3"
    },
    "language_info": {
      "name": "python"
    }
  },
  "cells": [
    {
      "cell_type": "markdown",
      "source": [
        "##Theoretical Questions\n"
      ],
      "metadata": {
        "id": "aEarrl63X04I"
      }
    },
    {
      "cell_type": "markdown",
      "source": [
        "**1. Explain the purpose and advantages of NumPy in scientific computing and data analysis. How does it enhance Python's capabilities for numerical operations?**\n",
        "\n",
        "**Sol.**Numerical Python is a fundamental library for scientific computing and data analysis in Python.It was built for the following purpose.\n",
        "\n",
        "1. **Efficient Array Handling:** NumPy provides the ndarray (N-dimensional array) object, which is a powerful data structure for storing and manipulating large datasets efficiently.\n",
        "\n",
        "2. **Numerical Operations:** It offers a comprehensive suite of mathematical functions for performing a wide range of operations, including arithmetic, linear algebra, and statistical analysis.\n",
        "\n",
        "3. **Interoperability:** NumPy serves as the foundation for many other scientific libraries (like SciPy, Pandas, and Matplotlib), facilitating seamless integration and collaboration within the Python ecosystem.\n",
        "\n",
        "**Advantages of Numpy**\n",
        "\n",
        "1. **Speed:**NumPy arrays are implemented in C, which makes operations on them significantly faster than Python lists, especially for large datasets.\n",
        "\n",
        "*For example*\n",
        "\n",
        "Lets say we have two lists lst1 and lst2 each has 1 crore elements in it ,we add each element of these list and add them in third list. The execution time for this operation will be:\n"
      ],
      "metadata": {
        "id": "E20OuKaFYCSn"
      }
    },
    {
      "cell_type": "code",
      "source": [
        "import numpy as np\n",
        "import time\n",
        "\n",
        "def list_time():\n",
        "  \"\"\"Function adds two lists containing 1 crorce elements each.\n",
        "     Returns : time of operation\n",
        "  \"\"\"\n",
        "  lst1=[i for i in range(10000000)]\n",
        "  lst2=[i for i in range(10000000,20000000)]\n",
        "\n",
        "  lst=[]\n",
        "\n",
        "  start1=time.time()\n",
        "  for i in range(len(lst1)):\n",
        "    lst.append(lst1[i]+lst2[i])\n",
        "  end1=time.time()\n",
        "  return end1-start1\n",
        "\n",
        "def array_time():\n",
        "  \"\"\"Function adds two arrays containing 1 crore elements each.\n",
        "     Returns: time of operation of addition\n",
        "  \"\"\"\n",
        "  a=np.arange(10000000)\n",
        "  b=np.arange(10000000,20000000)\n",
        "\n",
        "  start2=time.time()\n",
        "  c=a+b\n",
        "  end2=time.time()\n",
        "  return end2-start2\n",
        "\n",
        "print(\"Time of operation for list:\",list_time())\n",
        "print(\"Time of operation for Numpy:\", array_time())"
      ],
      "metadata": {
        "colab": {
          "base_uri": "https://localhost:8080/"
        },
        "id": "w2cK_OmocVRO",
        "outputId": "f39e7ba0-38a4-45a8-85ac-821acfaa248c"
      },
      "execution_count": null,
      "outputs": [
        {
          "output_type": "stream",
          "name": "stdout",
          "text": [
            "Time of operation for list: 1.6052958965301514\n",
            "Time of operation for Numpy: 0.03467273712158203\n"
          ]
        }
      ]
    },
    {
      "cell_type": "markdown",
      "source": [
        "2. **Memory Efficiency:** NumPy arrays use less memory than Python lists because they are stored as contiguous blocks of memory.\n",
        "\n",
        "*For example:*\n",
        "\n",
        "In this example we can clearly see lists occupy more space then arrays"
      ],
      "metadata": {
        "id": "GRYMhG0BepVV"
      }
    },
    {
      "cell_type": "code",
      "source": [
        "\n",
        "import sys\n",
        "import numpy as np\n",
        "\n",
        "list1=[i for i in range(10000000)]\n",
        "array1=np.arange(10000000)\n",
        "\n",
        "#by default its stored in 64 bit nut we can convert it in 32 bit\n",
        "array2=np.arange(10000000,dtype=np.int32)\n",
        "\n",
        "print(\"Size of list:\",sys.getsizeof(list1))\n",
        "print(\"Size of array1:\",sys.getsizeof(array1))\n",
        "print(\"Size of array2:\",sys.getsizeof(array2))\n",
        "print(\"Difference:\",sys.getsizeof(list1)-sys.getsizeof(array2))"
      ],
      "metadata": {
        "colab": {
          "base_uri": "https://localhost:8080/"
        },
        "id": "UQ02JHYLfA7c",
        "outputId": "bd9bbeff-0be3-483a-846b-f627c6e0ff63"
      },
      "execution_count": null,
      "outputs": [
        {
          "output_type": "stream",
          "name": "stdout",
          "text": [
            "Size of list: 89095160\n",
            "Size of array1: 80000112\n",
            "Size of array2: 40000112\n",
            "Difference: 49095048\n"
          ]
        }
      ]
    },
    {
      "cell_type": "markdown",
      "source": [
        "3. **Broad Functionality:**\n",
        "\n",
        "  NumPy includes a vast array of built-in mathematical and statistical functions, making it easy to perform complex calculations without needing to implement algorithms from scratch.\n",
        "\n",
        "4. **Broadcasting:**\n",
        "\n",
        "  This feature allows NumPy to perform operations on arrays of different shapes and sizes, automatically expanding the smaller array to match the dimensions of the larger one, which simplifies coding.\n",
        "\n",
        "5. **Rich Ecosystem:**\n",
        "\n",
        "  Many scientific computing and data analysis libraries build on NumPy, creating a rich ecosystem that enhances Python's capabilities in data science, machine learning, and artificial intelligence."
      ],
      "metadata": {
        "id": "eUu7XJXNfjSG"
      }
    },
    {
      "cell_type": "markdown",
      "source": [
        "**Q2.Compare and contrast np.mean() and np.average() functions in NumPy. When would you use one over the\n",
        "other?**\n",
        "\n",
        "**Sol.**\n",
        "\n",
        "**np.mean():**\n",
        "\n",
        "1. When we need a straightforward average without considering weights.\n",
        "2. When we prioritize performance and speed for large datasets.\n",
        "\n",
        "**np.average():**\n",
        "\n",
        "1. When we need to compute a weighted average, where elements contribute differently to the final result.\n",
        "2. When we are working in scenarios such as grading systems or statistical models where different values have different significance."
      ],
      "metadata": {
        "id": "oVzGEKhSghaM"
      }
    },
    {
      "cell_type": "code",
      "source": [
        "import numpy as np\n",
        "\n",
        "data = np.array([1, 2, 3, 4, 5])\n",
        "\n",
        "# Using np.mean()\n",
        "mean_value = np.mean(data)\n",
        "\n",
        "# Using np.average() with weights\n",
        "weights = np.array([1, 1, 2, 2, 3])\n",
        "weighted_avg = np.average(data, weights=weights)\n",
        "\n",
        "print(\"Mean:\", mean_value)\n",
        "print(\"Weighted Average:\", weighted_avg)\n"
      ],
      "metadata": {
        "colab": {
          "base_uri": "https://localhost:8080/"
        },
        "id": "aznWn4R9hrLs",
        "outputId": "2c0a0c98-8c94-4857-aa1a-52cdc9be371d"
      },
      "execution_count": null,
      "outputs": [
        {
          "output_type": "stream",
          "name": "stdout",
          "text": [
            "Mean: 3.0\n",
            "Weighted Average: 3.5555555555555554\n"
          ]
        }
      ]
    },
    {
      "cell_type": "markdown",
      "source": [
        "**Q3.Describe the methods for reversing a NumPy array along different axes. Provide examples for 1D and 2D arrays.**\n",
        "\n",
        "**Sol.**The arrays can be reversed by using *slicing* or *flip()*.\n",
        "\n",
        "\n",
        "\n",
        "**Syntax for slicing:**\n",
        "```\n",
        "        array_name[a:b:c,x:y:z]\n",
        "```\n",
        "\n",
        "a=initial row value\n",
        "\n",
        "b=final row value\n",
        "\n",
        "c=step value for rows\n",
        "\n",
        "x=initial column value\n",
        "\n",
        "y=final column value\n",
        "\n",
        "z=step value for column\n",
        "\n",
        "\n",
        "**Syntax for flip():**\n",
        "```\n",
        "        np.flip(array_name, axis=0/1)    \n",
        "```\n",
        "\n",
        "axis = 0 : flips the array along columns\n",
        "\n",
        "axis = 1 : flips the array along rows\n",
        "\n",
        "\n",
        "\n"
      ],
      "metadata": {
        "id": "kp8DK5Gmi1gH"
      }
    },
    {
      "cell_type": "code",
      "source": [
        "import numpy as np\n",
        "\n",
        "a=np.random.randint(1,10,5)                         #1D array\n",
        "b=np.random.randint(1,10,12).reshape(3,4)           #2D array\n",
        "\n",
        "print(\"Original_A:\",a)\n",
        "print(\"Original_B:\")\n",
        "print(b)\n",
        "#Using slicing\n",
        "\n",
        "rev_a=a[::-1]\n",
        "rev_b=b[::-1,:]\n",
        "rev_b1=b[:,::-1]\n",
        "\n",
        "print(\"Reversed A:\",rev_a)\n",
        "print(\"Reversed b along rows:\")\n",
        "print(rev_b)\n",
        "print(\"Reversed b along columns:\")\n",
        "print(rev_b1)\n",
        "#Using flip()\n",
        "\n",
        "flip_a=np.flip(a)\n",
        "flip_b=np.flip(b, axis=0)       #along rows\n",
        "flip_b1=np.flip(b, axis=1)      #along columns\n",
        "\n",
        "print(\"Flipped_A:\",flip_a)\n",
        "print(\"Flipped_B:\")\n",
        "print(flip_b)\n",
        "print(\"Flipped_B1:\")\n",
        "print(flip_b1)"
      ],
      "metadata": {
        "colab": {
          "base_uri": "https://localhost:8080/"
        },
        "id": "c6h-T1hHjspd",
        "outputId": "c21dffb0-a0de-4a4f-cdd7-33ddb466f29e"
      },
      "execution_count": null,
      "outputs": [
        {
          "output_type": "stream",
          "name": "stdout",
          "text": [
            "Original_A: [9 9 9 1 6]\n",
            "Original_B:\n",
            "[[6 3 7 5]\n",
            " [8 8 2 7]\n",
            " [5 4 1 9]]\n",
            "Reversed A: [6 1 9 9 9]\n",
            "Reversed b along rows:\n",
            "[[5 4 1 9]\n",
            " [8 8 2 7]\n",
            " [6 3 7 5]]\n",
            "Reversed b along columns:\n",
            "[[5 7 3 6]\n",
            " [7 2 8 8]\n",
            " [9 1 4 5]]\n",
            "Flipped_A: [6 1 9 9 9]\n",
            "Flipped_B:\n",
            "[[5 4 1 9]\n",
            " [8 8 2 7]\n",
            " [6 3 7 5]]\n",
            "Flipped_B1:\n",
            "[[5 7 3 6]\n",
            " [7 2 8 8]\n",
            " [9 1 4 5]]\n"
          ]
        }
      ]
    },
    {
      "cell_type": "markdown",
      "source": [
        " **Q4.How can you determine the data type of elements in a NumPy array? Discuss the importance of data types in memory management and performance.**\n",
        "\n",
        " **Sol.** The data type of elements of arrays can be determined by attribute **dtype**.  "
      ],
      "metadata": {
        "id": "lgWR2K_nqth6"
      }
    },
    {
      "cell_type": "code",
      "source": [
        "#use of dtype attribute\n",
        "\n",
        "import numpy as np\n",
        "a=np.arange(5)\n",
        "print(a.dtype)"
      ],
      "metadata": {
        "colab": {
          "base_uri": "https://localhost:8080/"
        },
        "id": "QQOU4dPQsDcZ",
        "outputId": "b54c815f-c621-4f7e-f1e7-419fe44ceffa"
      },
      "execution_count": null,
      "outputs": [
        {
          "output_type": "stream",
          "name": "stdout",
          "text": [
            "int64\n"
          ]
        }
      ]
    },
    {
      "cell_type": "markdown",
      "source": [
        " The choice of data types in NumPy is vital for efficient memory management and optimal performance. Properly selecting data types not only minimizes memory usage but also enhances the speed of computations through better alignment with the underlying hardware and NumPy’s optimized functions.\n",
        "\n",
        " **1. Memory Management**\n",
        "1. **Efficient Storage:** Different data types have varying sizes in memory. For example, an int32 takes up 4 bytes, while a float64 takes up 8 bytes. Choosing the appropriate data type helps minimize memory usage, especially when working with large datasets.\n",
        "\n",
        "2. **Contiguous Memory Allocation:** NumPy arrays are stored in contiguous blocks of memory. The choice of data type affects how the array is allocated in memory, which can improve cache performance and reduce fragmentation.\n",
        "\n",
        "3. **Type Consistency:** NumPy arrays are homogeneous, meaning all elements must be of the same type. This consistency allows for more efficient memory management compared to Python lists, which can store mixed types but incur overhead due to type checks and storage management.\n",
        "\n",
        "**2. Performance**\n",
        "1. **Speed of Operations:** Operations on NumPy arrays are generally faster than on Python lists because NumPy is implemented in C. Choosing an appropriate data type can further enhance performance since operations can be optimized for specific types (e.g., integer vs. floating-point operations).\n",
        "\n",
        "2. **Vectorization:** NumPy allows for vectorized operations, which means computations are performed on entire arrays rather than element by element. The performance benefits of vectorization are amplified when the data type is suitable for the operation being performed. For example, using float32 can lead to faster computations than using float64 in certain contexts due to reduced data size.\n",
        "\n",
        "3. **Broadcasting:** NumPy’s broadcasting mechanism allows for operations on arrays of different shapes. This feature is most efficient when the data types are compatible, avoiding unnecessary type conversions and maintaining performance."
      ],
      "metadata": {
        "id": "V7DveF01sZIT"
      }
    },
    {
      "cell_type": "markdown",
      "source": [
        "**Q5. Define ndarrays in NumPy and explain their key features. How do they differ from standard Python lists?**\n",
        "\n",
        "**Sol.**An ndarray is a (usually fixed-size) multidimensional container of items of the same type and size. The number of dimensions and items in an array is defined by its shape , which is a tuple of N non-negative integers that specify the sizes of each dimension.\n",
        "\n",
        "\n",
        "**Key Features of ndarrays**\n",
        "\n",
        "1. **Homogeneous Data Type:** All elements in an ndarray are of the same data type, which allows for optimized performance and memory usage. This is unlike Python lists, which can hold elements of different types.\n",
        "\n",
        "2. **Multidimensional:** ndarrays can be one-dimensional, two-dimensional (like matrices), or n-dimensional. This flexibility makes them suitable for a variety of scientific computing tasks.\n",
        "\n",
        "3. **Efficient Storage:** NumPy uses contiguous blocks of memory for ndarrays, leading to more efficient data access and manipulation compared to the linked structure of Python lists.\n",
        "\n",
        "4. **Vectorized Operations:** NumPy supports element-wise operations, allowing you to perform mathematical operations on entire arrays without the need for explicit loops. This leads to cleaner code and faster execution.\n",
        "\n",
        "5. **Broadcasting:** This feature allows NumPy to perform operations on arrays of different shapes by automatically expanding the smaller array's dimensions to match the larger array.\n",
        "\n",
        "6. **Comprehensive Functionality:** NumPy provides a wide range of mathematical functions and tools for linear algebra, Fourier transforms, and random number generation, making it a comprehensive library for numerical computing.\n",
        "\n",
        "7. **Slicing and Indexing:** NumPy supports advanced slicing and indexing techniques, allowing for more powerful and flexible data manipulation than standard Python lists.\n",
        "\n",
        "**Differences from Standard Python Lists**\n",
        "1. **Data Type Restriction:** Python lists can hold mixed types (e.g., integers, strings, objects), while ndarrays require all elements to be of the same type.\n",
        "\n",
        "2. **Performance:** Operations on ndarrays are generally faster due to optimized C implementations, while Python lists can be slower because they involve more overhead.\n",
        "\n",
        "3. **Memory Efficiency:** ndarrays use less memory for large data sets compared to lists, which can be more memory-intensive due to their dynamic nature.\n",
        "\n",
        "4. **Functionality:** NumPy provides many built-in functions for mathematical operations, linear algebra, and statistical analysis, which are not available for standard lists without using additional libraries.\n",
        "\n",
        "5. **Dimensionality:** While lists can be nested to create multidimensional structures, these are not as efficient or easy to manipulate as true multidimensional ndarrays."
      ],
      "metadata": {
        "id": "AE3P0bX4xDqj"
      }
    },
    {
      "cell_type": "markdown",
      "source": [
        "**Q6.Analyze the performance benefits of NumPy arrays over Python lists for large-scale numerical operations.**\n",
        "\n",
        "**Sol.** Lets say we have two lists lst1 and lst2 each has 1 crore elements in it ,we add each element of these list and add them in third list. Same goes for the arrays, the execution time for these operation will be:"
      ],
      "metadata": {
        "id": "mcQsJrHE3zkS"
      }
    },
    {
      "cell_type": "code",
      "source": [
        "import numpy as np\n",
        "import time\n",
        "\n",
        "def list_time():\n",
        "  \"\"\"Function adds two lists containing 1 crorce elements each.\n",
        "     Returns : time of operation\n",
        "  \"\"\"\n",
        "  lst1=[i for i in range(10000000)]\n",
        "  lst2=[i for i in range(10000000,20000000)]\n",
        "\n",
        "  lst=[]\n",
        "\n",
        "  start1=time.time()\n",
        "  for i in range(len(lst1)):\n",
        "    lst.append(lst1[i]+lst2[i])\n",
        "  end1=time.time()\n",
        "  return end1-start1\n",
        "\n",
        "def array_time():\n",
        "  \"\"\"Function adds two arrays containing 1 crore elements each.\n",
        "     Returns: time of operation of addition\n",
        "  \"\"\"\n",
        "  a=np.arange(10000000)\n",
        "  b=np.arange(10000000,20000000)\n",
        "\n",
        "  start2=time.time()\n",
        "  c=a+b\n",
        "  end2=time.time()\n",
        "  return end2-start2\n",
        "\n",
        "print(\"Time of operation for list:\",list_time())\n",
        "print(\"Time of operation for Numpy:\", array_time())"
      ],
      "metadata": {
        "colab": {
          "base_uri": "https://localhost:8080/"
        },
        "id": "yAIeIKZl4S-Y",
        "outputId": "ccf7cdeb-52f0-4d2b-9ffc-572c180d85b1"
      },
      "execution_count": null,
      "outputs": [
        {
          "output_type": "stream",
          "name": "stdout",
          "text": [
            "Time of operation for list: 1.6491460800170898\n",
            "Time of operation for Numpy: 0.03323554992675781\n"
          ]
        }
      ]
    },
    {
      "cell_type": "markdown",
      "source": [
        "**Q7.Compare vstack() and hstack() functions in NumPy. Provide examples demonstrating their usage and output.**\n",
        "\n",
        "**Sol** Stacking is used to **concatinate** or **stack** two or more arrays together. Keep in mind the shape of the matrix before stacking.For example arr1 has order 2X4 and arr2 has 2X8 then we use hstack. if arr1 has 2X4 and arr2 has 6X4 then we use vstack.\n",
        "\n",
        "Stacking is of two types:\n",
        "1. **Horizantal Stack** : Stacks array in horizontal sequence (column wise)\n",
        "2. **Vertical Stack** : Stacks array in vertical sequence (row wise)"
      ],
      "metadata": {
        "id": "vczeZLtr4R3H"
      }
    },
    {
      "cell_type": "code",
      "source": [
        "import numpy as np\n",
        "\n",
        "a=np.arange(9).reshape(3,3)\n",
        "b=np.arange(20,38).reshape(3,6)\n",
        "c=np.arange(24).reshape(4,6)\n",
        "x=np.hstack((a,b))\n",
        "y=np.vstack((b,c))\n",
        "\n",
        "print(\"Matrix A:\")\n",
        "print(a)\n",
        "print(\"---------------------------------------\")\n",
        "print(\"Matrix B:\")\n",
        "print(b)\n",
        "print(\"---------------------------------------\")\n",
        "print(\"Matrix C:\")\n",
        "print(c)\n",
        "print(\"---------------------------------------\")\n",
        "print(\"Hstack of A and B:\")\n",
        "print(x)\n",
        "print(\"---------------------------------------\")\n",
        "print(\"Vstack of B and C:\")\n",
        "print(y)"
      ],
      "metadata": {
        "colab": {
          "base_uri": "https://localhost:8080/"
        },
        "id": "uOERPbkx59D7",
        "outputId": "91ff03c0-eae1-41da-ef96-47073e9825bc"
      },
      "execution_count": null,
      "outputs": [
        {
          "output_type": "stream",
          "name": "stdout",
          "text": [
            "Matrix A:\n",
            "[[0 1 2]\n",
            " [3 4 5]\n",
            " [6 7 8]]\n",
            "---------------------------------------\n",
            "Matrix B:\n",
            "[[20 21 22 23 24 25]\n",
            " [26 27 28 29 30 31]\n",
            " [32 33 34 35 36 37]]\n",
            "---------------------------------------\n",
            "Matrix C:\n",
            "[[ 0  1  2  3  4  5]\n",
            " [ 6  7  8  9 10 11]\n",
            " [12 13 14 15 16 17]\n",
            " [18 19 20 21 22 23]]\n",
            "---------------------------------------\n",
            "Hstack of A and B:\n",
            "[[ 0  1  2 20 21 22 23 24 25]\n",
            " [ 3  4  5 26 27 28 29 30 31]\n",
            " [ 6  7  8 32 33 34 35 36 37]]\n",
            "---------------------------------------\n",
            "Vstack of A and C:\n",
            "[[20 21 22 23 24 25]\n",
            " [26 27 28 29 30 31]\n",
            " [32 33 34 35 36 37]\n",
            " [ 0  1  2  3  4  5]\n",
            " [ 6  7  8  9 10 11]\n",
            " [12 13 14 15 16 17]\n",
            " [18 19 20 21 22 23]]\n"
          ]
        }
      ]
    },
    {
      "cell_type": "markdown",
      "source": [
        "**Q8. Explain the differences between fliplr() and flipud() methods in NumPy, including their effects on various array dimensions.**\n",
        "\n",
        "**Sol.**\n",
        "\n",
        "**Orientation of Flip:**\n",
        "\n",
        "*fliplr()*: Flips the array horizontally, reversing columns.\n",
        "\n",
        "*flipud()*: Flips the array vertically, reversing rows.\n",
        "\n",
        "**Effect on Dimensions:**\n",
        "\n",
        "**2D Arrays:**\n",
        "\n",
        "*fliplr():* Affects the columns of each row.\n",
        "\n",
        "*flipud():* Affects the rows themselves.\n",
        "\n",
        "**1D Arrays:**\n",
        "Both functions effectively reverse the array, but *fliplr()* is more intuitive as it emphasizes a horizontal flip, while *flipud()* clearly indicates a vertical reversal.\n",
        "\n",
        "**Higher Dimensions:**\n",
        "\n",
        "For arrays with more than two dimensions, both functions will only flip the specified axis while leaving other dimensions unchanged."
      ],
      "metadata": {
        "id": "otKv9Q99941y"
      }
    },
    {
      "cell_type": "code",
      "source": [
        "import numpy as np\n",
        "\n",
        "a=np.arange(9).reshape(3,3)\n",
        "\n",
        "print(a)\n",
        "\n",
        "print(\"fliplr\")\n",
        "print(np.fliplr(a))\n",
        "\n",
        "print(\"flipud\")\n",
        "print(np.flipud(a))"
      ],
      "metadata": {
        "colab": {
          "base_uri": "https://localhost:8080/"
        },
        "id": "rAC11vge_6Vv",
        "outputId": "a615d8d3-d4fc-4e7b-8ef4-c335e14da681"
      },
      "execution_count": null,
      "outputs": [
        {
          "output_type": "stream",
          "name": "stdout",
          "text": [
            "[[0 1 2]\n",
            " [3 4 5]\n",
            " [6 7 8]]\n",
            "fliplr\n",
            "[[2 1 0]\n",
            " [5 4 3]\n",
            " [8 7 6]]\n",
            "flipud\n",
            "[[6 7 8]\n",
            " [3 4 5]\n",
            " [0 1 2]]\n"
          ]
        }
      ]
    },
    {
      "cell_type": "markdown",
      "source": [
        "**Q9.Discuss the functionality of the array_split() method in NumPy. How does it handle uneven splits?**\n",
        "\n",
        "**Sol.** Splitting is used to break a matrix into two or more equal parts.\n",
        "\n",
        "```\n",
        "        np.split(array_name , number of sections, axis)\n",
        "```\n",
        "\n",
        "**Handling Uneven Splits:**\n",
        "\n",
        "When the size of the array is not evenly divisible by the number of desired splits, array_split() distributes the remaining elements across the resulting sub-arrays. Specifically:\n",
        "\n",
        "The first few sub-arrays will contain one more element than the others until all elements have been distributed.\n",
        "For example, if you try to split an array of size 20 into 3 parts, array_split() will return two sub-arrays of size 8 and one of size 4.\n",
        "\n"
      ],
      "metadata": {
        "id": "lUkYFvkkBCXj"
      }
    },
    {
      "cell_type": "code",
      "source": [
        "import numpy as np\n",
        "\n",
        "a = np.arange(20).reshape((5,4))\n",
        "\n",
        "b = np.array_split(a, 3, axis=0)\n",
        "\n",
        "print(\"Original 2D Array:\")\n",
        "print(a)\n",
        "print(\"Split into 3 Parts (Rows):\")\n",
        "for i, sub_array in enumerate(b):\n",
        "    print(f\"\\n Sub-array {i}:\\n {sub_array}\")\n"
      ],
      "metadata": {
        "colab": {
          "base_uri": "https://localhost:8080/"
        },
        "id": "cemka1i6CAy-",
        "outputId": "5b258a25-923b-4ac3-d8ee-48abe3c232a9"
      },
      "execution_count": null,
      "outputs": [
        {
          "output_type": "stream",
          "name": "stdout",
          "text": [
            "Original 2D Array:\n",
            "[[ 0  1  2  3]\n",
            " [ 4  5  6  7]\n",
            " [ 8  9 10 11]\n",
            " [12 13 14 15]\n",
            " [16 17 18 19]]\n",
            "Split into 3 Parts (Rows):\n",
            "\n",
            " Sub-array 0:\n",
            " [[0 1 2 3]\n",
            " [4 5 6 7]]\n",
            "\n",
            " Sub-array 1:\n",
            " [[ 8  9 10 11]\n",
            " [12 13 14 15]]\n",
            "\n",
            " Sub-array 2:\n",
            " [[16 17 18 19]]\n"
          ]
        }
      ]
    },
    {
      "cell_type": "markdown",
      "source": [
        "**Q10. Explain the concepts of vectorization and broadcasting in NumPy. How do they contribute to efficient array operations?**\n",
        "\n",
        "**Sol.** **Vectorization** is used to increase the speed of the python program.It is applied on arrays to reduce their computational complexity than using for loops.\n",
        "\n",
        "**Broadcasting** is used to do arithmetic operations on arrays of different dimensions.It provides a means of vectorizing array operations.\n",
        "\n",
        "**How broadcasting is efficient:**\n",
        "\n",
        "Broadcasting provides a means of vectorizing array operations, therefore eliminating the need for Python loops. This is because NumPy is implemented in C Programming, which is a very efficient language.\n",
        "\n",
        "It does this without making needless copies of data which leads to efficient algorithm implementations. But broadcasting over multiple arrays in NumPy extension can raise cases where broadcasting is a bad idea because it leads to inefficient use of memory that slows down the computation.\n",
        "\n",
        "The resulting array returned after broadcasting will have the same number of dimensions as the array with the greatest number of dimensions."
      ],
      "metadata": {
        "id": "UbFMQJtoLZTO"
      }
    },
    {
      "cell_type": "markdown",
      "source": [
        "## Practical Questions"
      ],
      "metadata": {
        "id": "RUz7KG4xhOKL"
      }
    },
    {
      "cell_type": "markdown",
      "source": [
        "Q1. Create a 3x3 NumPy array with random integers between 1 and 100. Then, interchange its rows and columns."
      ],
      "metadata": {
        "id": "qMD1vC37hSLq"
      }
    },
    {
      "cell_type": "code",
      "source": [
        "import numpy as np\n",
        "\n",
        "a=np.random.randint(1,100,12).reshape(3,4)\n",
        "\n",
        "print(\"Original Matrix: \\n\",a)\n",
        "\n",
        "#Rows are interchanged\n",
        "\n",
        "b=np.flipud(a)\n",
        "print(\"\\n When rows are interchanged: \\n\",b)\n",
        "\n",
        "#Columns are interchanged\n",
        "c=np.fliplr(a)\n",
        "print(\"\\n When columns are interchanged: \\n\",c)\n",
        "\n",
        "#Rows are interchanged with columns\n",
        "\n",
        "d=a.T\n",
        "print(\"\\n Rows are interchanged with columns: \\n\",d)\n"
      ],
      "metadata": {
        "colab": {
          "base_uri": "https://localhost:8080/"
        },
        "id": "Gw7t17dMhQTj",
        "outputId": "9116230d-4ef6-470c-87d0-e72bb6b2e62b"
      },
      "execution_count": null,
      "outputs": [
        {
          "output_type": "stream",
          "name": "stdout",
          "text": [
            "Original Matrix: \n",
            " [[44 31 45 22]\n",
            " [95 50 51 11]\n",
            " [27 66 31 83]]\n",
            "\n",
            " When rows are interchanged: \n",
            " [[27 66 31 83]\n",
            " [95 50 51 11]\n",
            " [44 31 45 22]]\n",
            "\n",
            " When columns are interchanged: \n",
            " [[22 45 31 44]\n",
            " [11 51 50 95]\n",
            " [83 31 66 27]]\n",
            "\n",
            " Rows are interchanged with columns: \n",
            " [[44 95 27]\n",
            " [31 50 66]\n",
            " [45 51 31]\n",
            " [22 11 83]]\n"
          ]
        }
      ]
    },
    {
      "cell_type": "markdown",
      "source": [
        "Q2. Generate a 1D NumPy array with 10 elements. Reshape it into a 2x5 array, then into a 5x2 array."
      ],
      "metadata": {
        "id": "x5fjltFYjZUV"
      }
    },
    {
      "cell_type": "code",
      "source": [
        "import numpy as np\n",
        "\n",
        "a=np.arange(10)\n",
        "\n",
        "print(\"1D array: \\n \",a)\n",
        "print(\"\\n 2X5 array: \\n\",a.reshape((2,5)))\n",
        "print(\"\\n 5X2 array: \\n\",a.reshape((5,2)))"
      ],
      "metadata": {
        "colab": {
          "base_uri": "https://localhost:8080/"
        },
        "id": "CMflzNfsjcpa",
        "outputId": "c43235b3-2520-46a4-fde1-d427689fc66e"
      },
      "execution_count": null,
      "outputs": [
        {
          "output_type": "stream",
          "name": "stdout",
          "text": [
            "1D array: \n",
            "  [0 1 2 3 4 5 6 7 8 9]\n",
            "\n",
            " 2X5 array: \n",
            " [[0 1 2 3 4]\n",
            " [5 6 7 8 9]]\n",
            "\n",
            " 5X2 array: \n",
            " [[0 1]\n",
            " [2 3]\n",
            " [4 5]\n",
            " [6 7]\n",
            " [8 9]]\n"
          ]
        }
      ]
    },
    {
      "cell_type": "markdown",
      "source": [
        "Q3. Create a 4x4 NumPy array with random float values. Add a border of zeros around it, resulting in a 6x6 array."
      ],
      "metadata": {
        "id": "1N5_Uo4mkUXa"
      }
    },
    {
      "cell_type": "code",
      "source": [
        "import numpy as np\n",
        "\n",
        "a=np.random.rand(4,4)\n",
        "print(\"Original Array:\\n\",a)\n",
        "\n",
        "b=np.zeros((1,4))\n",
        "c=np.zeros((6,1))\n",
        "\n",
        "a=np.vstack((b,a,b))\n",
        "a=np.hstack((c,a,c))\n",
        "\n",
        "print(\"\\n\\n New Array: \\n\",a)\n"
      ],
      "metadata": {
        "colab": {
          "base_uri": "https://localhost:8080/"
        },
        "id": "4wFDbJv7kYFa",
        "outputId": "e4ac0862-9d98-4625-f040-d3df9fb6f0b0"
      },
      "execution_count": null,
      "outputs": [
        {
          "output_type": "stream",
          "name": "stdout",
          "text": [
            "Original Array:\n",
            " [[0.23183883 0.10680832 0.45249975 0.69447828]\n",
            " [0.19308934 0.96946783 0.38952061 0.99343088]\n",
            " [0.45154758 0.463192   0.17758781 0.11028824]\n",
            " [0.40496892 0.37908542 0.77251136 0.34342992]]\n",
            "\n",
            "\n",
            " New Array: \n",
            " [[0.         0.         0.         0.         0.         0.        ]\n",
            " [0.         0.23183883 0.10680832 0.45249975 0.69447828 0.        ]\n",
            " [0.         0.19308934 0.96946783 0.38952061 0.99343088 0.        ]\n",
            " [0.         0.45154758 0.463192   0.17758781 0.11028824 0.        ]\n",
            " [0.         0.40496892 0.37908542 0.77251136 0.34342992 0.        ]\n",
            " [0.         0.         0.         0.         0.         0.        ]]\n"
          ]
        }
      ]
    },
    {
      "cell_type": "markdown",
      "source": [
        "Q4.  Using NumPy, create an array of integers from 10 to 60 with a step of 5."
      ],
      "metadata": {
        "id": "YJ3wnovln9Wk"
      }
    },
    {
      "cell_type": "code",
      "source": [
        "import numpy as np\n",
        "\n",
        "print(np.arange(10,61,5))"
      ],
      "metadata": {
        "colab": {
          "base_uri": "https://localhost:8080/"
        },
        "id": "bEf_M2oRoDZy",
        "outputId": "ce1226f5-906a-4277-b938-675be479c2f5"
      },
      "execution_count": null,
      "outputs": [
        {
          "output_type": "stream",
          "name": "stdout",
          "text": [
            "[10 15 20 25 30 35 40 45 50 55 60]\n"
          ]
        }
      ]
    },
    {
      "cell_type": "markdown",
      "source": [
        "Q5.  Create a NumPy array of strings ['python', 'numpy', 'pandas']. Apply different case transformations\n",
        "(uppercase, lowercase, title case, etc.) to each element."
      ],
      "metadata": {
        "id": "6v-8blGiok8q"
      }
    },
    {
      "cell_type": "code",
      "source": [
        "import numpy as np\n",
        "\n",
        "a=np.array(['python', 'numpy', 'pandas'])\n",
        "\n",
        "print(\"Original Array:\",a)\n",
        "print(\"\\n Upper case: \",np.char.upper(a))\n",
        "print(\"\\n Lower case: \",np.char.lower(a))\n",
        "print(\"\\n Title case: \",np.char.title(a))\n",
        "\n"
      ],
      "metadata": {
        "colab": {
          "base_uri": "https://localhost:8080/"
        },
        "id": "JDWuo3nJooZa",
        "outputId": "6efbb264-9dad-4706-ff68-8e71c926907c"
      },
      "execution_count": null,
      "outputs": [
        {
          "output_type": "stream",
          "name": "stdout",
          "text": [
            "Original Array: ['python' 'numpy' 'pandas']\n",
            "\n",
            " Upper case:  ['PYTHON' 'NUMPY' 'PANDAS']\n",
            "\n",
            " Lower case:  ['python' 'numpy' 'pandas']\n",
            "\n",
            " Title case:  ['Python' 'Numpy' 'Pandas']\n"
          ]
        }
      ]
    },
    {
      "cell_type": "markdown",
      "source": [
        "Q6. Generate a NumPy array of words. Insert a space between each character of every word in the array."
      ],
      "metadata": {
        "id": "NRJ1I00Pp89C"
      }
    },
    {
      "cell_type": "code",
      "source": [
        "import numpy as np\n",
        "\n",
        "a=np.array([\"Hello\", \"this\", \"is\", \"Numpy\"])\n",
        "\n",
        "print(np.char.join(\" \",a))\n",
        "\n"
      ],
      "metadata": {
        "id": "KfynStz7p-kJ",
        "colab": {
          "base_uri": "https://localhost:8080/"
        },
        "outputId": "9abee509-24d9-4b4a-e9db-0c15f49a95f4"
      },
      "execution_count": 6,
      "outputs": [
        {
          "output_type": "stream",
          "name": "stdout",
          "text": [
            "['H e l l o' 't h i s' 'i s' 'N u m p y']\n"
          ]
        }
      ]
    },
    {
      "cell_type": "markdown",
      "source": [
        "Q7. Create two 2D NumPy arrays and perform element-wise addition, subtraction, multiplication, and division."
      ],
      "metadata": {
        "id": "OOgMnjoyjOQR"
      }
    },
    {
      "cell_type": "code",
      "source": [
        "import numpy as np\n",
        "\n",
        "a=np.random.randint(50,70,12).reshape((3,4))\n",
        "b=np.random.randint(1,20,12).reshape((3,4))\n",
        "\n",
        "print(\"Original Array A:\\n\",a)\n",
        "print(\"\\nOriginal Array B:\\n\",b)\n",
        "\n",
        "print(\"\\n \\n Sum:\\n\",a+b)\n",
        "print(\"\\n \\n Diff:\\n\",a-b)\n",
        "print(\"\\n \\n Product:\\n\",a*b)\n",
        "print(\"\\n \\n Div:\\n\",a/b)"
      ],
      "metadata": {
        "colab": {
          "base_uri": "https://localhost:8080/"
        },
        "id": "a_vf_lADjRyw",
        "outputId": "22253ee3-00fc-4d8b-fc59-f7381c2cb211"
      },
      "execution_count": 5,
      "outputs": [
        {
          "output_type": "stream",
          "name": "stdout",
          "text": [
            "Original Array A:\n",
            " [[50 66 63 56]\n",
            " [55 50 65 62]\n",
            " [54 56 67 62]]\n",
            "\n",
            "Original Array B:\n",
            " [[ 7 14 11 12]\n",
            " [ 4 19 10 17]\n",
            " [16 12 16  8]]\n",
            "\n",
            " \n",
            " Sum:\n",
            " [[57 80 74 68]\n",
            " [59 69 75 79]\n",
            " [70 68 83 70]]\n",
            "\n",
            " \n",
            " Diff:\n",
            " [[43 52 52 44]\n",
            " [51 31 55 45]\n",
            " [38 44 51 54]]\n",
            "\n",
            " \n",
            " Product:\n",
            " [[ 350  924  693  672]\n",
            " [ 220  950  650 1054]\n",
            " [ 864  672 1072  496]]\n",
            "\n",
            " \n",
            " Div:\n",
            " [[ 7.14285714  4.71428571  5.72727273  4.66666667]\n",
            " [13.75        2.63157895  6.5         3.64705882]\n",
            " [ 3.375       4.66666667  4.1875      7.75      ]]\n"
          ]
        }
      ]
    },
    {
      "cell_type": "markdown",
      "source": [
        "Q8.  Use NumPy to create a 5x5 identity matrix, then extract its diagonal elements."
      ],
      "metadata": {
        "id": "OPzE7TZYlW7S"
      }
    },
    {
      "cell_type": "code",
      "source": [
        "import numpy as np\n",
        "a=np.random.randint(1,30,25).reshape((5,5))\n",
        "print(\"Array:\\n\",a)\n",
        "\n",
        "b=np.identity(5)\n",
        "\n",
        "a=a*b\n",
        "a=a[a>0]\n",
        "print(\"\\n Diagonal elements :\\n\",a)\n",
        "\n",
        "\n"
      ],
      "metadata": {
        "colab": {
          "base_uri": "https://localhost:8080/"
        },
        "id": "AQH-t2tdlvvi",
        "outputId": "adfd3109-7cf6-49e5-dc6f-e8eb3e57273d"
      },
      "execution_count": 10,
      "outputs": [
        {
          "output_type": "stream",
          "name": "stdout",
          "text": [
            "Array:\n",
            " [[ 9 20 10 19 14]\n",
            " [ 5 27 19 22 27]\n",
            " [ 4  9 16 16  6]\n",
            " [16 28 10 29 27]\n",
            " [ 9 23 11 15  8]]\n",
            "\n",
            " Diagonal elements :\n",
            " [ 9. 27. 16. 29.  8.]\n"
          ]
        }
      ]
    },
    {
      "cell_type": "markdown",
      "source": [
        "Q9. Generate a NumPy array of 100 random integers between 0 and 1000. Find and display all prime numbers in this array."
      ],
      "metadata": {
        "id": "mB-ILjiVndQz"
      }
    },
    {
      "cell_type": "code",
      "source": [
        "import numpy as np\n",
        "\n",
        "def prime(array):\n",
        "  for i in array:\n",
        "    for j in range(2,i):\n",
        "      if i%j==0:\n",
        "       break\n",
        "    else:\n",
        "      print(i, end=\" \")\n",
        "\n",
        "a=np.random.randint(0,1000,100)\n",
        "\n",
        "print(a)\n",
        "\n",
        "print(\"\\n \\n Prime numbers: \\n\")\n",
        "\n",
        "prime(a)"
      ],
      "metadata": {
        "colab": {
          "base_uri": "https://localhost:8080/"
        },
        "id": "03UJ9aPmngOw",
        "outputId": "6c023d03-edc0-478b-ff88-5a25c418dd0e"
      },
      "execution_count": 19,
      "outputs": [
        {
          "output_type": "stream",
          "name": "stdout",
          "text": [
            "[ 43 289 546 801 451 502 141 302 670 767 316 987 483 343 344 405 270 119\n",
            " 401 427 836 223 574 743 314 720  41  31 305 429 964 401 355  51 495 936\n",
            " 368 866 410 501 794 345  88 261  22 961 521 662 227 493 577 997 562 874\n",
            " 435 183 804 754 928 897 196 215 308 251 541 927 822 102 998 565 384  74\n",
            " 725 372 626 352  17 142 350 964 633 220 913 193 818 951 444  56 650 999\n",
            " 730 121 373  84 867 784 269 248 628 133]\n",
            "\n",
            " \n",
            " Prime numbers: \n",
            "\n",
            "43 401 223 743 41 31 401 521 227 577 997 251 541 17 193 373 269 "
          ]
        }
      ]
    },
    {
      "cell_type": "markdown",
      "source": [
        "Q10. Create a NumPy array representing daily temperatures for a month. Calculate and display the weekly\n",
        "averages"
      ],
      "metadata": {
        "id": "lDegnpCZudLj"
      }
    },
    {
      "cell_type": "code",
      "source": [
        "import numpy as np\n",
        "\n",
        "a=np.random.randint(-15,50,30).reshape((1,30))\n",
        "print(\"Daily Temp:\\n\",a)\n",
        "\n",
        "b=np.zeros((1,5),dtype=int)\n",
        "a=np.hstack((a,b))\n",
        "\n",
        "a=a.reshape((5,7))\n",
        "a=a[[0,1,2,3]]\n",
        "print(\"\\n Temperature weekly array excluding extra 2 days:\\n\",a)\n",
        "avg=np.mean(a,axis=1)\n",
        "print(\"\\n Weekly aaverage:\\n\",avg)"
      ],
      "metadata": {
        "colab": {
          "base_uri": "https://localhost:8080/"
        },
        "id": "dTrYDv02uorH",
        "outputId": "bf786652-2458-41f5-f18a-980ba58e5ac6"
      },
      "execution_count": 50,
      "outputs": [
        {
          "output_type": "stream",
          "name": "stdout",
          "text": [
            "Daily Temp:\n",
            " [[ 22  -5 -13  49   0   3  22  20 -14  29  29  39  36  -1  20  10   5  46\n",
            "   47  45  -2  10  11  25  24 -14   1  -7  -5  45]]\n",
            "\n",
            " Temperature weekly array excluding extra 2 days:\n",
            " [[ 22  -5 -13  49   0   3  22]\n",
            " [ 20 -14  29  29  39  36  -1]\n",
            " [ 20  10   5  46  47  45  -2]\n",
            " [ 10  11  25  24 -14   1  -7]]\n",
            "\n",
            " Weekly aaverage:\n",
            " [11.14285714 19.71428571 24.42857143  7.14285714]\n"
          ]
        }
      ]
    }
  ]
}